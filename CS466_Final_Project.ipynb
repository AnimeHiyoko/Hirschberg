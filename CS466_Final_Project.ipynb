{
  "nbformat": 4,
  "nbformat_minor": 0,
  "metadata": {
    "colab": {
      "provenance": []
    },
    "kernelspec": {
      "name": "python3",
      "display_name": "Python 3"
    },
    "language_info": {
      "name": "python"
    }
  },
  "cells": [
    {
      "cell_type": "code",
      "source": [
        "import tracemalloc # can benchmark the memory usage of the program.\n",
        "import time # can benchmark the time usage for the program\n"
      ],
      "metadata": {
        "id": "_Ys_LGhWcsv0"
      },
      "execution_count": 153,
      "outputs": []
    },
    {
      "cell_type": "code",
      "source": [
        "UP = (-1,0)\n",
        "LEFT = (0, -1)\n",
        "TOPLEFT = (-1, -1)\n",
        "ORIGIN = (0, 0)\n",
        "\n",
        "\n",
        "def hirschberg(v, w, delta, mismatch):\n",
        "\n",
        "  if len(v) == 0: # base cases\n",
        "    vout = \"-\" * len(w)\n",
        "    wout = w\n",
        "    score = -len(w)\n",
        "    return vout, wout, score\n",
        "\n",
        "  if len(w) == 0:\n",
        "    vout = v\n",
        "    wout = \"-\" * len(v)\n",
        "    score = -len(v)\n",
        "    return vout, wout, score\n",
        "\n",
        "  if len(v) == 1 and len(w) == 1:\n",
        "    # the midpoint could land on the endpoint.\n",
        "    # in this case, the midpoint will always land on one of the endpoints\n",
        "    # but also, it's simple to analyze: either matches in which case we get +1 or\n",
        "    # or it doesn't match in which case we can either take the diagonal\n",
        "\n",
        "    if v == w:\n",
        "      return v, w, 1 # match\n",
        "    else:\n",
        "        return v, w, -1\n",
        "\n",
        "  height, width = len(v) + 1, len(w) + 1 # number of cells. so cell 0 lies before letter 0\n",
        "  mid_point = width // 2\n",
        "\n",
        "  ## forward\n",
        "  fwd = [i for i in range(0, -height, -1)] # initialize with descending integers\n",
        "  for i in range(1, mid_point + 1):\n",
        "    nxt = [0] * height\n",
        "    nxt[0] = fwd[0] - 1\n",
        "    for j in range(1, height):\n",
        "      nxt[j] = max(\n",
        "          fwd[j] - 1,\n",
        "          nxt[j-1] - 1,\n",
        "          fwd[j-1] + delta[v[j-1]][w[i-1]]\n",
        "          )\n",
        "\n",
        "    fwd, nxt = nxt, [0] * height\n",
        "\n",
        "  ## backward\n",
        "  bwd = [i for i in range(-height + 1, 1)] # initialize with ascending integers\n",
        "  for i in range(width-2, mid_point-1, -1):\n",
        "    nxt = [0] * height\n",
        "    nxt[-1] = bwd[-1] - 1\n",
        "    for j in range(height-1 -1, -1, -1):\n",
        "\n",
        "      nxt[j] = max(\n",
        "          bwd[j] - 1,\n",
        "          nxt[j+1] - 1,\n",
        "          bwd[j+1] + delta[v[j]][w[i]]\n",
        "          )\n",
        "\n",
        "    bwd, nxt = nxt, [0] * height\n",
        "\n",
        "  ## find i_star\n",
        "  i_star = -1\n",
        "  largest = float(\"-inf\")\n",
        "  mid = [fwd[i] + bwd[i] for i in range(len(fwd))]\n",
        "  for i, m in enumerate(mid):\n",
        "\n",
        "    if m > largest:\n",
        "      i_star = i\n",
        "      largest = m\n",
        "\n",
        "  if mid_point == len(w) and i_star == len(v):\n",
        "    # there are two points to test. if it's a match you just do diagonal\n",
        "    # otherwise you go up (from back)\n",
        "    if v[-1] == w[-1]:\n",
        "      vleft, wleft, scoreleft = hirschberg(v[0:i_star-1], w[0:mid_point-1], delta, mismatch)\n",
        "      return vleft + v[-1], wleft + w[-1], scoreleft + 1\n",
        "    else:\n",
        "      i_star = i_star - 1\n",
        "\n",
        "  vleft, wleft, scoreleft = hirschberg(v[0:i_star], w[0:mid_point], delta, mismatch)\n",
        "  vright, wright, scoreright = hirschberg(v[i_star:],w[mid_point:], delta, mismatch)\n",
        "\n",
        "\n",
        "  return vleft + vright, wleft + wright, scoreleft + scoreright\n"
      ],
      "metadata": {
        "id": "E1mpHW2LaSSR"
      },
      "execution_count": 252,
      "outputs": []
    },
    {
      "cell_type": "code",
      "source": [
        "# start = time.time() # run if you want to test the time complexity\n",
        "keys = ['A', 'C', 'T', 'G', '-']\n",
        "delta = {}\n",
        "mismatch = -1\n",
        "for key in keys:\n",
        "    delta[key] = {k : v for (k,v) in zip(keys, [1 if key == key_other  else mismatch for key_other in keys])}\n",
        "\n",
        "tracemalloc.start()\n",
        "print(hirschberg(\"ATCTATCTGGGATCTGGCTGTCTGT\", \"ATGCGATGCGTATGCGGACTTGACT\", delta, mismatch))\n",
        "\n",
        "print(tracemalloc.get_traced_memory())\n",
        "tracemalloc.stop()\n",
        "\n",
        "# end = time.time() # if you want to benchmark time\n",
        "# print(end - start)\n",
        "\n"
      ],
      "metadata": {
        "colab": {
          "base_uri": "https://localhost:8080/"
        },
        "id": "g_0ezCc7zSq2",
        "outputId": "30fbfc6d-6cf1-4a03-8144-9ff0efa845d0"
      },
      "execution_count": 255,
      "outputs": [
        {
          "output_type": "stream",
          "name": "stdout",
          "text": [
            "('AT-CTAT-CTGGGAT-CTGG-C-TGTCTGT', 'ATGCGATGC-GT-ATGC-GGACTTGACT--', 4)\n",
            "(5502, 16179)\n"
          ]
        }
      ]
    },
    {
      "cell_type": "code",
      "source": [
        "# Benchmarking Sequences Used\n",
        "\n",
        "# 3 ATC ATG\n",
        "# 4 ATCT ATGC\n",
        "# 5 ATCTG ATGCG\n",
        "# 6 ATCTGG ATGCGT\n",
        "# 7 ATCTGGC ATGCGTG\n",
        "# 10 ATCTGGCTGT ATGCGTGACT\n",
        "# 15 GCTATCTGGCTGTGT ATATGCGTGACTGCG\n",
        "# 20 ATCTGGATCTGGCTGTCTGT ATGCGATGCGTGACTTGACT\n",
        "# 25 ATCTATCTGGGATCTGGCTGTCTGT ATGCGATGCGTATGCGGACTTGACT\n",
        "# 30 ATCTATCTGGGATCTGATCTGGCTGTCTGT ATGCGATGCGTATGCGATGCGGACTTGACT\n",
        "# 35 ATCTATCTGGGATCTGATCTGGATCTGCTGTCTGT ATGCGATGCGTATGCGATGCGATGCGGACTTGACT\n",
        "# 40 ATCTATCTGGGATCTGATCTGATCTGGATCTGCTGTCTGT ATGCGATGCGTATGCGATCTGATGCGATGCGGACTTGACT\n",
        "# 50 ATCTATCTGATGCGTGACTGGATCTGATCTGATCTGGATCTGCTGTCTGT ATGCGATGCGTATGCGATCTGGCTGTATCTGATGCGATGCGGACTTGACT\n",
        "# 60 ATCTATCTGATGCGTGATGCGTGACTACTGGATCTGATCTGATCTGGATCTGCTGTCTGT ATGCGATGCATCTGGCTGTGTATGCGATCTGGCTGTATCTGATGCGATGCGGACTTGACT\n",
        "# 70 ATCTATCTGAATGCGTGACTTGCGTGATGCGTGACTACTGGATCTGATCTGATCTGGATCTGCTGTCTGT ATGCGATGCATCTGGCTGTGTATGATCTGGCTGTCGATCTGGCTGTATCTGATGCGATGCGGACTTGACT\n",
        "# 90 ATCTATCTGAATGCGTGAATGCGATGCGTGACTTGACTCTTGCGTGATGCGTGACTACTGGATCTGATCTGATCTGGATCTGCTGTCTGT ATGCGATGCATCTGGCTGTGTATGATCTGGCTGTCGATCTGGCTGTATCTGATGCGATGCGGACTTGACT\n",
        "# 100 ATCTATCTGAAATGCGTGACTTGCGTGAATGCGATGCGTGACTTGACTCTTGCGTGATGCGTGACTACTGGATCTGATCTGATCTGGATCTGCTGTCTGT ATCTGATGCGATGCATCTGGCTGTGTATGATCTGGCTGTCGATCTGGCTGTATCTGATGCGATGCGGACTTGACTGCTGT\n",
        "# 150 ATCTATCTGATGCGTGACTGGATCTGATATCTATCTGAAATGCGTGACTTGCGTGAATGCGATGCGTGACTTGACTCTTGCGTGATGCGTGACTACTGGATCTGATCTGATCTGGATCTGCTGTCTGTCTGATCTGGATCTGCTGTCTGT ATCTGATGCGATGCATCTGGCTGTGTATGATCTGGCTGATGCGATGCGTATGCGATCTGGCTGTATCTGATGCGATGCGGACTTGACTTCGATCTGGCTGTATCTGATGCGATGCGGACTTGACTGCTGT\n",
        "# 200 ATCTATCTGAAATGCGTGACTTGCGTGAATGCGATGATCTATCTGAAATGCGTGACTTGCGTGAATGCGATGCGTGACTTGACTCTTGCGTGATGCGTGACTACTGGATCTGATCTGATCTGGATCTGCTGTCTGTCGTGACTTGACTCTTGCGTGATGCGTGACTACTGGATCTGATCTGATCTGGATCTGCTGTCTGT ATCTGATGCGATGCATCTGGCTGTGTATGATCTGGCTGTCGATCTGATGCGATGCATCTGGCTGTGTATGATCTGGCTGTCGATCTGGCTGTATCTGATGCGATGCGGACTTGACTGCTGTATCTGGCTGTATCTGATGCGATGCGGACTTGACTGCTGT\n",
        "# 250 ATCTATCTGAAATGCGATCTATCTGATGCGTGACTGGATCTGATCTGATCTGGATCTGCTGTCTGTTGACTTGCGTGAATGCGATGATCTATCTGAAATGCGTGACTTGCGTGAATGCGATGCGTGACTTGACTCTTGCGTGATGCGTGACTACTGGATCTGATCTGATCTGGATCTGCTGTCTGTCGTGACTTGACTCTTGCGTGATGCGTGACTACTGGATCTGATCTGATCTGGATCTGCTGTCTGT ATCTGATGCGATGCATCTGGCTGTGTATGATCTGGCTGTCGATCTGATGCGATGCATCTGGCTGTGTATGATCTGGCTGTCGATCTGGCTGTATCATGCGATGCGTATGCGATCTGGCTGTATCTGATGCGATGCGGACTTGACTTGATGCGATGCGGACTTGACTGCTGTATCTGGCTGTATCTGATGCGATGCGGACTTGACTGCTGT"
      ],
      "metadata": {
        "id": "OsOp-uu1wboT"
      },
      "execution_count": 239,
      "outputs": []
    },
    {
      "cell_type": "code",
      "source": [],
      "metadata": {
        "id": "z3iiOveV1RAg"
      },
      "execution_count": null,
      "outputs": []
    }
  ]
}